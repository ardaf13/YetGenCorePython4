{
 "cells": [
  {
   "cell_type": "markdown",
   "metadata": {
    "id": "unoTPlV_tJOm"
   },
   "source": [
    "# Problem 1 \n",
    "Bir sayının çift olup olmadığını sorgulayan bir fonksiyon yazın. Bu fonksiyon, eğer sayı çift ise bu değeri dönsün. Ancak sayı tek sayı ise fonksiyon raise ile ValueError hatası oluştursun. Daha sonra, içinde çift ve tek sayılar bulunduran bir liste tanımlayın ve liste üzerinde gezinerek ekrana sadece çift sayıları bastırın."
   ]
  },
  {
   "cell_type": "code",
   "execution_count": 2,
   "metadata": {
    "id": "7oyBSeXptJOp"
   },
   "outputs": [
    {
     "name": "stdout",
     "output_type": "stream",
     "text": [
      "[2, 4, 6, 8, 10]\n"
     ]
    }
   ],
   "source": [
    "def ciftsayi(x):\n",
    "    if x%2==0:\n",
    "        return True\n",
    "    else:\n",
    "        raise ValueError\n",
    "            \n",
    "    \n",
    "def cift_kontrol(y):\n",
    "    try:\n",
    "        return ciftsayi(y)\n",
    "    except ValueError:\n",
    "        return False    \n",
    "\n",
    "list1=[1,2,3,4,5,6,7,8,9,10]\n",
    "list2=list(filter(cift_kontrol,list1))\n",
    "print(list2)    "
   ]
  },
  {
   "cell_type": "markdown",
   "metadata": {
    "id": "CdfzJ2A9tJOq"
   },
   "source": [
    "# Problem 2\n",
    "\n",
    "2 YetGen lideri ders sırasında canları sıkılınca oyun oynamak isterler. Ancak hangi oyunu oynayacaklarına karar veremezler ve son olarak kendi oyunlarını yazmaya karar verirler.\n",
    "Liderlerimizin kodlamak istediği oyun kuralları şöyledir:\n",
    "- Oyunda random olarak 0 ile 100 arasında bir sayı tutulur.\n",
    "- Kullanıcıdan bilgisayarın tuttuğu sayıyı tahmin etmesi için bir sayı girmesini istenir.\n",
    "- Eğer kullanıcının girdiği sayı bulunması gereken sayıdan küçükse  tahmininizi yükseltin, büyükse tahmininizi düşürün şeklinde bir çıktı verilir.\n",
    "- Oyunun gerçeğe yakın olması için bilgisayarın çalışmasını simgelemek için 1 saniye bekleme süresi tanınır.\n",
    "- Kullanıcı 5 hakkı vardır. 5 hakkı da kullanıp sayıyı bulamazsa oyunu kaybeder."
   ]
  },
  {
   "cell_type": "code",
   "execution_count": null,
   "metadata": {
    "id": "A1VEETgCtJOr"
   },
   "outputs": [
    {
     "name": "stdout",
     "output_type": "stream",
     "text": [
      "Tahmininizi Yükseltin\n",
      "Tahmininizi Yükseltin\n",
      "Tahmininizi Yükseltin\n",
      "Tahmininizi Yükseltin\n",
      "Tahmininizi Düşürün\n",
      "Hakkınız bitti. Doğru sayı 56 idi.\n"
     ]
    }
   ],
   "source": [
    "import random\n",
    "import time\n",
    "x = random.randint(0, 100)\n",
    "hak = 5\n",
    "\n",
    "while hak > 0:\n",
    "    y = int(input(\"Tahminde Bulunun: \"))\n",
    "    time.sleep(1)\n",
    "    if x > y:\n",
    "        print(\"Tahmininizi Yükseltin\")\n",
    "        time.sleep(1)\n",
    "    elif x < y:\n",
    "        print(\"Tahmininizi Düşürün\")\n",
    "        time.sleep(1)\n",
    "    else:\n",
    "        print(\"Tebrikler! Doğru tahmin.\")\n",
    "        time.sleep(1)\n",
    "        break\n",
    "\n",
    "    hak -= 1\n",
    "\n",
    "    if hak == 0:\n",
    "        print(f\"Hakkınız bitti. Doğru sayı {x} idi.\")\n",
    "\n",
    "    "
   ]
  }
 ],
 "metadata": {
  "colab": {
   "provenance": []
  },
  "kernelspec": {
   "display_name": "Python 3",
   "language": "python",
   "name": "python3"
  },
  "language_info": {
   "codemirror_mode": {
    "name": "ipython",
    "version": 3
   },
   "file_extension": ".py",
   "mimetype": "text/x-python",
   "name": "python",
   "nbconvert_exporter": "python",
   "pygments_lexer": "ipython3",
   "version": "3.13.2"
  },
  "orig_nbformat": 4,
  "vscode": {
   "interpreter": {
    "hash": "5026d2d6e7aaaaba093def813beadff083d8733e4a511af01735cbabd156995d"
   }
  }
 },
 "nbformat": 4,
 "nbformat_minor": 0
}
