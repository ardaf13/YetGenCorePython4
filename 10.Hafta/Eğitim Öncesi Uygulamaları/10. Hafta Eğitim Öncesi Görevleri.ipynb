{
 "cells": [
  {
   "attachments": {},
   "cell_type": "markdown",
   "metadata": {},
   "source": [
    "# Problem 1"
   ]
  },
  {
   "cell_type": "code",
   "execution_count": 5,
   "metadata": {},
   "outputs": [
    {
     "name": "stdout",
     "output_type": "stream",
     "text": [
      "[8 0 5 7 9]\n",
      "(5,)\n",
      "[[8]\n",
      " [0]\n",
      " [5]\n",
      " [7]\n",
      " [9]]\n",
      "2\n"
     ]
    }
   ],
   "source": [
    "import numpy as np\n",
    "\n",
    "# 2 - 0 ile 10 arasında 5 sayıdan oluşan matris üretin\n",
    "x = np.random.randint(0, 10, size=(5,))\n",
    "print(x)\n",
    "\n",
    "# 3 - matris'in boyutunu öğrenin\n",
    "print(x.shape)\n",
    "\n",
    "# 4 - matris'i yeniden boyutlandırın\n",
    "x = x.reshape((5, 1))\n",
    "print(x)\n",
    "\n",
    "# 5 - matris'in boyut sayısını öğrenin\n",
    "print(x.ndim)\n"
   ]
  },
  {
   "attachments": {},
   "cell_type": "markdown",
   "metadata": {},
   "source": [
    "# Problem 2"
   ]
  },
  {
   "cell_type": "code",
   "execution_count": 7,
   "metadata": {},
   "outputs": [
    {
     "name": "stdout",
     "output_type": "stream",
     "text": [
      "[1 9 9 9 9 7]\n",
      "[1 9 9]\n",
      "[9 9 7]\n",
      "[1 9 9 9 9 7]\n"
     ]
    }
   ],
   "source": [
    "import numpy as np\n",
    "\n",
    "# 1 - 0 ile 10 arasında bulunan tek sayılardan matris üretin\n",
    "x = np.random.choice([1, 3, 5, 7, 9], size=(6,))\n",
    "print(x)\n",
    "\n",
    "# 2 - Oluşturduğunuz matrisi parçalayın\n",
    "y, z = np.split(x, 2)\n",
    "print(y)\n",
    "print(z)\n",
    "\n",
    "# 3 - Parçalanmış matrisleri birleştirin\n",
    "a = np.concatenate((y, z))\n",
    "print(a)\n",
    "\n",
    "\n"
   ]
  },
  {
   "attachments": {},
   "cell_type": "markdown",
   "metadata": {},
   "source": [
    "# Problem 3"
   ]
  },
  {
   "cell_type": "code",
   "execution_count": 9,
   "metadata": {},
   "outputs": [
    {
     "name": "stdout",
     "output_type": "stream",
     "text": [
      "[77 21  7  7 81 85 85 17  7 59]\n",
      "(10,)\n",
      "1\n",
      "10\n",
      "int64\n"
     ]
    }
   ],
   "source": [
    "# 1 - 5 ile 100 arasında ikişer ikişer atlayarak rastgele 10 sayıdan oluşan matris üretin\n",
    "sayilar = np.arange(5, 100, 2)\n",
    "x = np.random.choice(sayilar, size=10)\n",
    "print(x)\n",
    "\n",
    "# 2 - matris'in özelliklerini inceleyin\n",
    "print(x.shape)\n",
    "print(x.ndim)\n",
    "print(x.size)\n",
    "print(x.dtype)\n"
   ]
  }
 ],
 "metadata": {
  "kernelspec": {
   "display_name": "Python 3",
   "language": "python",
   "name": "python3"
  },
  "language_info": {
   "codemirror_mode": {
    "name": "ipython",
    "version": 3
   },
   "file_extension": ".py",
   "mimetype": "text/x-python",
   "name": "python",
   "nbconvert_exporter": "python",
   "pygments_lexer": "ipython3",
   "version": "3.13.2"
  },
  "orig_nbformat": 4,
  "vscode": {
   "interpreter": {
    "hash": "5026d2d6e7aaaaba093def813beadff083d8733e4a511af01735cbabd156995d"
   }
  }
 },
 "nbformat": 4,
 "nbformat_minor": 2
}
