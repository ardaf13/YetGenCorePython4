{
 "cells": [
  {
   "cell_type": "markdown",
   "metadata": {},
   "source": [
    "# Problem 1\n",
    "`ogrenciler` adında bir sözlük oluşturunuz. Kullanıcıdan döngü yardımıyla 3 öğrenci için veri girmesini isteyerek öğrencilerin sırasıyla okul numarası, isim, soy isim, telefon numarası ve doğum tarihi bilgilerini alınız. Aldığınız öğrenci bilgilerini yine aynı döngü yardımıyla `ogrenciler` adındaki sözlükte saklayınız. Daha sonra öğrenci bilgilerinin bulunduğu sözlük yapısını ekrana bastırınız.\n",
    "\n"
   ]
  },
  {
   "cell_type": "code",
   "execution_count": 3,
   "metadata": {},
   "outputs": [
    {
     "data": {
      "text/plain": [
       "dict_items([('10', {'İsim': 'Arda', 'Soy İsim': 'Fırat', 'Telefon': '535', 'Doğum Tarihi': '2005'}), ('15', {'İsim': 'Emre', 'Soy İsim': 'Talay', 'Telefon': '555', 'Doğum Tarihi': '2004'}), ('20', {'İsim': 'Mleih', 'Soy İsim': 'Tokgöz', 'Telefon': '565', 'Doğum Tarihi': '2005'})])"
      ]
     },
     "execution_count": 3,
     "metadata": {},
     "output_type": "execute_result"
    }
   ],
   "source": [
    "ogrenciler=dict()\n",
    "for i in range(3):\n",
    "    okul_no=input(\"Okul Numarası: \")\n",
    "    isim=input(\"İsim: \")\n",
    "    soyad=input(\"Soy İsim: \")\n",
    "    tel_no=input(\"Telefon Numarası: \")\n",
    "    dogum_tarihi=input(\"Doğum Tarihi: \")\n",
    "    ogrenciler[okul_no] = {\n",
    "        \"İsim\": isim,\n",
    "        \"Soy İsim\": soyad,\n",
    "        \"Telefon\": tel_no,\n",
    "        \"Doğum Tarihi\": dogum_tarihi\n",
    "    }\n",
    "ogrenciler.items()    \n"
   ]
  },
  {
   "cell_type": "markdown",
   "metadata": {},
   "source": [
    "# Problem 2\n",
    "\n",
    "### a - Biraz ısınarak başlayalım!\n",
    "\n",
    "```\n",
    "numbers = [5,10,10,15,15,15,20,20,20,20]\n",
    "```\n",
    "\n",
    "Yukarıda `numbers` adında 10 elemanlı bir liste verilmiştir. Bu listenin her elemanını kontrol eden ve tekrar eden elemanları bir kez olacak şekilde başka bir listeye kopyalayan bir program yazınız. Son olarak oluşturduğunuz listeyi ekrana bastırınız.\n",
    "\n",
    "\n",
    "\n",
    "\n",
    "```\n",
    ">Output\n",
    "[5, 10, 15, 20]\n",
    "```\n"
   ]
  },
  {
   "cell_type": "code",
   "execution_count": 11,
   "metadata": {},
   "outputs": [
    {
     "name": "stdout",
     "output_type": "stream",
     "text": [
      "[5, 10, 15, 20]\n"
     ]
    }
   ],
   "source": [
    "numbers = [5,10,10,15,15,15,20,20,20,20]\n",
    "yeni_liste=list()\n",
    "for i in numbers:\n",
    "    if i not in yeni_liste:\n",
    "        yeni_liste.append(i)\n",
    "  \n",
    "print(yeni_liste)  \n",
    "\n"
   ]
  },
  {
   "cell_type": "code",
   "execution_count": 28,
   "metadata": {},
   "outputs": [
    {
     "name": "stdout",
     "output_type": "stream",
     "text": [
      "[10, 20, 5, 15]\n"
     ]
    }
   ],
   "source": [
    "numbers = [5,10,10,15,15,15,20,20,20,20]\n",
    "x=set(numbers)\n",
    "y=list(x)\n",
    "print(y)\n"
   ]
  },
  {
   "cell_type": "markdown",
   "metadata": {},
   "source": [
    "### 🌶️ b) Hadi işi biraz daha zorlaştıralım! \n",
    "\n",
    "\n",
    "Şimdiyse senden `numbers` isimli listedeki tekrar eden elemanları `repeatNumbers` adındaki listeye; tekrar etmeyen elemanları `uniqueNumbers`adındaki listeye kopyalayan yazmanı ve listeleri ekrana bastırmanı bekliyoruz\n",
    "\n",
    "```\n",
    ">Output\n",
    "Tekrar Eden Elemanlar: [10, 10, 15, 15, 15, 20, 20, 20, 20]\n",
    "Tekrar Etmeyen Elemanlar: [5]\n",
    "```"
   ]
  },
  {
   "cell_type": "code",
   "execution_count": 13,
   "metadata": {},
   "outputs": [
    {
     "name": "stdout",
     "output_type": "stream",
     "text": [
      "Tekrar Eden Elemanlar: [10, 10, 15, 15, 15, 20, 20, 20, 20]\n",
      "Tekrar Etmeyen Elemanlar: [5]\n"
     ]
    }
   ],
   "source": [
    "numbers = [5,10,10,15,15,15,20,20,20,20]\n",
    "repeatNumbers=list()\n",
    "uniqueNumbers=list()\n",
    "for i in numbers:\n",
    "    if numbers.count(i)>1:\n",
    "        repeatNumbers.append(i)\n",
    "    else:\n",
    "        uniqueNumbers.append(i)\n",
    "\n",
    "print(f\"Tekrar Eden Elemanlar: {repeatNumbers}\") \n",
    "print(f\"Tekrar Etmeyen Elemanlar: {uniqueNumbers}\")          \n",
    "\n",
    "\n",
    "\n",
    "    \n",
    "\n",
    "\n"
   ]
  },
  {
   "cell_type": "markdown",
   "metadata": {},
   "source": [
    "# Problem 3\n",
    "sn1 = {1,2,3,4,5}\n",
    "\n",
    "sn2 = {4,5,6,7,8}\n",
    "\n",
    " Verilen 2 adet küme için kesişimlerini, farklarını ve birleşimlerini bulunuz. "
   ]
  },
  {
   "cell_type": "code",
   "execution_count": 5,
   "metadata": {},
   "outputs": [
    {
     "name": "stdout",
     "output_type": "stream",
     "text": [
      "{4, 5}\n",
      "{1, 2, 3}\n",
      "{1, 2, 3, 4, 5, 6, 7, 8}\n"
     ]
    }
   ],
   "source": [
    "sn1 = {1,2,3,4,5}\n",
    "sn2 = {4,5,6,7,8}\n",
    "print(sn1.intersection(sn2))  \n",
    "print(sn1.difference(sn2))  \n",
    "print(sn1.union(sn2))  "
   ]
  },
  {
   "cell_type": "markdown",
   "metadata": {},
   "source": [
    "# Problem 4\n",
    "\n",
    "Buradaki işlemlerimizin tamamı stringler içindir. Aşağıda verilecek olan metodlar için kendinizin örnek yaratması gerekmektedir. \n",
    "\n",
    "Örneğin `upper` için `string` değişkeni oluştururken` k = \"BAC\"` şeklinde oluşturmayınız. Bunun yerine k değişkenini `k = \"bac`\" şeklinde oluşturmanız `upper` metodundaki değişimi görebilmeniz için daha iyi olacaktır.\n",
    "\n",
    "Bütün metodlardaki değişimin gözle görülür şekilde değişimi beklenmektedir.\n",
    "\n",
    "\n",
    "1- capitalize(), lower(), upper(), swapcase(), title(), replace()\n",
    "\n",
    "2- endswith(), startswith(), find(), index(), count()\n",
    "\n",
    "3- split(), strip(), join(), islower(), isalpha(), isdigit()\n",
    "\n",
    "\n",
    "Yukarıdaki `string` metodlarındaki değişimleri görebildiğimiz bir program yazınız.\n"
   ]
  },
  {
   "cell_type": "code",
   "execution_count": 2,
   "metadata": {},
   "outputs": [
    {
     "name": "stdout",
     "output_type": "stream",
     "text": [
      "Abc\n",
      "abc\n",
      "ARDA\n",
      "yETgEN\n",
      "Ankara\n",
      "İzmit\n",
      "True\n",
      "True\n",
      "4\n",
      "2\n",
      "2\n",
      "['a', 'b', 'c', 'd']\n",
      "abc\n",
      "arda,emre,melih\n",
      "True\n",
      "True\n",
      "True\n"
     ]
    }
   ],
   "source": [
    "a=\"abc\"\n",
    "print(a.capitalize())\n",
    "b=\"ABC\"\n",
    "print(b.lower())\n",
    "c=\"arda\"\n",
    "print(c.upper())\n",
    "d=\"YetGen\"\n",
    "print(d.swapcase())\n",
    "e=\"ANKARA\"\n",
    "print(e.title())\n",
    "f=\"İzmir\"\n",
    "print(f.replace(\"r\",\"t\"))\n",
    "g=\"İstanbul\"\n",
    "print(g.endswith(\"l\"))\n",
    "print(g.startswith(\"İ\"))\n",
    "print(g.find(\"n\"))\n",
    "print(g.index(\"t\"))\n",
    "h=\"ABRAKADABRA\"\n",
    "print(h.count(\"BRA\"))\n",
    "i=\"a,b,c,d\"\n",
    "print(i.split(\",\"))\n",
    "j=\".......abc.......\"\n",
    "print(j.strip(\".\"))\n",
    "k=\"xyz\"\n",
    "l=(\"arda\",\"emre\",\"melih\")\n",
    "print(\",\".join(l))\n",
    "print(k.islower())\n",
    "print(k.isalpha())\n",
    "m=\"123\"\n",
    "print(m.isdigit())"
   ]
  }
 ],
 "metadata": {
  "kernelspec": {
   "display_name": "Python 3",
   "language": "python",
   "name": "python3"
  },
  "language_info": {
   "codemirror_mode": {
    "name": "ipython",
    "version": 3
   },
   "file_extension": ".py",
   "mimetype": "text/x-python",
   "name": "python",
   "nbconvert_exporter": "python",
   "pygments_lexer": "ipython3",
   "version": "3.13.2"
  },
  "orig_nbformat": 4
 },
 "nbformat": 4,
 "nbformat_minor": 2
}
