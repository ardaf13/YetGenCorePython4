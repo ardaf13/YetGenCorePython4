{
  "cells": [
    {
      "cell_type": "markdown",
      "metadata": {
        "id": "tsD4YVAe_Te2"
      },
      "source": [
        "# Problem 1\n",
        "Bir sayının 7'ye bölünebilir olup olmadığını kontrol etmek \n",
        "için bir program yazın.\n",
        "\n",
        "İpucu: Mod operatörünü (%) kullanabilirsiniz."
      ]
    },
    {
      "cell_type": "code",
      "execution_count": null,
      "metadata": {
        "id": "NGjvNwKx_Te7"
      },
      "outputs": [],
      "source": [
        "x=int(input(\"Sayı giriniz: \"))\n",
        "if x%7==0:\n",
        "    print(\"Sayı 7 ile tam bölünüyor.\")\n",
        "else:\n",
        "    print(\"Sayı 7 ile tam bölünmüyor.\")    "
      ]
    },
    {
      "cell_type": "markdown",
      "metadata": {
        "id": "Kg3qiBAI_Te8"
      },
      "source": [
        "# Problem 2\n",
        "Kullanıcıdan vize ve final notu isteyin. Girilen vize notunun %40’ı ve \n",
        "girilen finalnotunun ise %60’ı alınarak yıl sonu not ortalaması hesaplanacaktır. \n",
        "\n",
        "Bu not ortalaması eğer 85 ve üzeri ise AA, \n",
        "\n",
        "75 ve 85 arasında ise BA, \n",
        "\n",
        "70 ve 75 arasında ise BB, \n",
        "\n",
        "65 ve 70 arasında ise CB,\n",
        "\n",
        "60 ve 65 arasında ise CC,\n",
        "\n",
        "55 ve 60 arasında ise DC,\n",
        "\n",
        "50 ve 55 arasında ise DD olarak hesaplanacaktır. \n",
        "\n",
        "Bu öğrencinin yıl sonu toplam notu 50’nin altında ise FF ile dersten kalacaktır. \n",
        "\n",
        "Ayrıca öğrencinin final notu 50’nin altında ise direkt FF ile kalacaktır."
      ]
    },
    {
      "cell_type": "code",
      "execution_count": null,
      "metadata": {
        "id": "MXTtCxI1_Te8"
      },
      "outputs": [],
      "source": [
        "vize=int(input(\"Vize notu: \"))\n",
        "final=int(input(\"Final notu: \"))\n",
        "ortalama=0.4*vize+0.6*final\n",
        "if final<50:\n",
        "    print(\"FF\")\n",
        "elif ortalama>=85:\n",
        "    print(\"AA\")\n",
        "elif  ortalama>=75:\n",
        "    print(\"BA\")\n",
        "elif ortalama>=70:\n",
        "    print(\"BB\")\n",
        "elif aortalama>=65:\n",
        "    print(\"CB\")\n",
        "elif ortalama>=60:\n",
        "    print(\"CC\")\n",
        "elif  ortalama>=55:\n",
        "    print(\"DC\")\n",
        "elif  ortalama>=50:\n",
        "    print(\"DD\")\n",
        "elif ortalama<50:\n",
        "    print(\"FF\")                \n",
        "\n"
      ]
    },
    {
      "cell_type": "markdown",
      "metadata": {
        "id": "tAoRYCTC_Te8"
      },
      "source": [
        "# Problem 3\n",
        "İki YetGenli Zirve'de karşılaşıyorlar. Birbirlerini tanımak için sorular soruyorlar. Birbirlerine yaşlarını soruyorlar. Akıllarına bir Python programı yazıp, yaşlarını ve isimlerini giriyorlar. Büyük olanın yaşını ekrana yazdıran programı yazıyorlar. Sende bu iki YetGenli'ye destek olmak ister misin?\n",
        "\n",
        "```\n",
        "Birinci YetGenlinin ismi: Ahmet\n",
        "Birinci YetGenlinin yaşı : 20\n",
        "İkinci YetGenlinin ismi: Mehmet\n",
        "İkinci YetGenlinin yaşı : 25\n",
        "Mehmet'in yaşı daha büyük ve yaşı 25'tir.\n",
        "```"
      ]
    },
    {
      "cell_type": "code",
      "execution_count": null,
      "metadata": {
        "id": "bPjE8W0i_Te8"
      },
      "outputs": [],
      "source": [
        "birinci_isim=input(\"Birinci Yetgenlinin ismi: \")\n",
        "birinci_yas=int(input(\"Birinci Yetgenlinin yaşı: \"))\n",
        "ikinci_isim=input(\"İkinci Yetgenlinin ismi: \")\n",
        "ikinci_yas=(input(\"İkinci Yetgenlinin yaş: \"))\n",
        "if birinci_yas>ikinci_yas:\n",
        "    print(f\"{birinci_isim}'in yaşı daha büyük ve yaşı {birinci_yas}'tir\")\n",
        "elif birinci_yas=ikinci_yas:\n",
        "    print(f\"{birinci_isim}'in yaşı {ikinci_isim}'in yaşına eşittir ve yaşı {birinci_yas}'tir.\") \n",
        "else:\n",
        "       print(f\"{ikinci_isim}'in yaşı daha büyük ve yaşı {ikinci_yas}'tir\")\n",
        "\n",
        "\n"
      ]
    },
    {
      "cell_type": "markdown",
      "metadata": {
        "id": "zBVv8Tyg_Te9"
      },
      "source": [
        "# Problem 4\n",
        "Pandemi döneminde AVM'lerde ateş ölçümü yapılıyor. AVM'ye giren kişinin ateş ölçümü 37.5 derecenin altında ise girişe izin veriliyor. 37.5 derecenin üstünde ise girişe izin verilmiyor. AVM'ye girişe izin verilip verilmediğini ekrana yazdıran bir program yazın.\n",
        "\n",
        "Program sonunda şöyle bir çıktı elde etmelisiniz:\n",
        "\n",
        "```\n",
        "Ateşiniz 37.5 derece. AVM'ye girebilirsin! Maske takmayı unutma!\n",
        "Ateşiniz 37.6 derece. AVM'ye giremezsin! Hemen evine dön!\n",
        "```"
      ]
    },
    {
      "cell_type": "code",
      "execution_count": null,
      "metadata": {
        "id": "TSAXs8et_Te9"
      },
      "outputs": [],
      "source": [
        "x=float(input(\"Ateş Derecesi: \"))\n",
        "if x<=37.5:\n",
        "    print(f\"Ateşiniz {x} derece. AVM'ye girebilirsiniz! Maske takmayı unutma!\")\n",
        "else:\n",
        "    print(f\"Ateşiniz {x} derece. AVM'ye giremezsin! Hemen evine dön!\")"
      ]
    },
    {
      "cell_type": "markdown",
      "metadata": {
        "id": "6AEkZrDt_Te9"
      },
      "source": [
        "# Problem 5\n",
        "YetGen bir spor kulübüyle sponsorluk anlaşması yapıyor. Kulüp, sponsorluk anlaşmasına göre her YetGen liderinin beden kitle indeksini hesaplamak istiyor. Spor kulübü, beden kitle indeksini hesaplamak için YetGen Jump Python liderlerinden Berkcan ve Ahmet'i arıyor. Berkcan ve Ahmet, kulübe yardımcı olmak için bir Python programı yazıyorlar. Sende bu iki YetGen liderine destek olmak ister misin?\n",
        "\n",
        "Kullanıcıdan alınan boy ve kilo değerlerine göre beden kitle indeksini hesaplayın ve şu kurallara göre ekrana şu yazıları yazdırın.\n",
        "\n",
        "\n",
        "Beden Kitle İndeksi, kişinin ağırlığının (kg olarak) boyunun karesine (m olarak) bölünmesiyle hesaplanır.\n",
        "\n",
        "\n",
        "```\n",
        " BKİ 18.5'un altındaysa -------> Zayıf\n",
        "\n",
        " BKİ 18.5 ile 25 arasındaysa ------> Normal\n",
        "\n",
        " BKİ 25 ile 30 arasındaysa --------> Fazla Kilolu\n",
        "\n",
        " BKİ 30'un üstündeyse -------------> Obez\n",
        "```\n",
        "\n"
      ]
    },
    {
      "cell_type": "code",
      "execution_count": null,
      "metadata": {
        "id": "t-XPI_u0_Te-"
      },
      "outputs": [],
      "source": [
        "x=float(input(\"Kilonuzu Giriniz: \"))\n",
        "y=float(input(\"Boyunuzu m cinsinden giriniz: \"))\n",
        "BKI=x/y**2\n",
        "if BKI<18.5:\n",
        "    print(\"Zayıf\")\n",
        "elif BKI>=18.5 and BKI<25:\n",
        "    print(\"Normal\")\n",
        "elif BKI>=25 and BKI<30:\n",
        "    print(\"Fazla Kilolu\")   \n",
        "elif BKI>=30:\n",
        "    print(\"Obez\")     \n"
      ]
    },
    {
      "cell_type": "markdown",
      "metadata": {
        "id": "oFsvQyaO_Te-"
      },
      "source": [
        "# Problem 6\n",
        "Kullanıcıdan isim, yaş ve eğitim bilgilerini isteyip ehliyet alabilme  durumunu kontrol ediniz. \n",
        "\n",
        "Ehliyet alma koşulu en az 18 yaşında ve eğitim durumu lise ya da üniversite olmalıdır. "
      ]
    },
    {
      "cell_type": "code",
      "execution_count": null,
      "metadata": {
        "id": "Tu2mcgco_Te-"
      },
      "outputs": [],
      "source": [
        "isim=input(\"İsim: \")\n",
        "yas=int(input(\"Yaş: \"))\n",
        "egitim_durumu=input(\"Eğitim Durumu: \")\n",
        "if yas>=18 and (egitim_durumu==\"Üniversite\" or egitim_durumu==\"Lise\"):\n",
        "    print(f\"{isim} ehliyet alabilir.\")\n",
        "else:\n",
        "    print(f\"{isim} ehliyet alamaz.\")  "
      ]
    },
    {
      "cell_type": "markdown",
      "metadata": {
        "id": "eUkxVSAE_Te_"
      },
      "source": [
        "# Problem 7\n",
        "Bir yılın artık yıl olup olmadığını kontrol etmek için bir program yazın. \n",
        "Artık yıl kuralı:\n",
        "\n",
        "a) Eğer yılın son iki basamağı (00) ile bitmiyor ve yalnızca 4'e tam bölünüyorsa artık yıldır. Ya da, \n",
        "\n",
        "b) Eğer yıl 400'e tam bölünüyorsa artık yıldır.\n",
        "\n",
        "**Örneğin**\n",
        "```\n",
        "2017 artık yıl değildir.\n",
        "1900 artık yıl değildir\n",
        "2012 artık yıldır.\n",
        "2000 artık yıldır.\n",
        "```"
      ]
    },
    {
      "cell_type": "code",
      "execution_count": null,
      "metadata": {
        "id": "4uWh8qUL_Te_"
      },
      "outputs": [],
      "source": [
        "yil=int(input(\"Yıl giriniz: \"))\n",
        "if (yil % 4 == 0 and yil % 100 != 0) or (yil % 400 == 0):\n",
        "    print(f\"{yil} artık yıldır.\")\n",
        "else:\n",
        "    print(f\"{yil} artık yıl değildir.\")"
      ]
    }
  ],
  "metadata": {
    "colab": {
      "provenance": []
    },
    "kernelspec": {
      "display_name": "Python 3.10.5 64-bit",
      "language": "python",
      "name": "python3"
    },
    "language_info": {
      "name": "python",
      "version": "3.10.5"
    },
    "orig_nbformat": 4,
    "vscode": {
      "interpreter": {
        "hash": "5026d2d6e7aaaaba093def813beadff083d8733e4a511af01735cbabd156995d"
      }
    }
  },
  "nbformat": 4,
  "nbformat_minor": 0
}
