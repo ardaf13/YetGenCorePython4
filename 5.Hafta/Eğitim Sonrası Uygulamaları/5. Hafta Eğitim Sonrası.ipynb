{
 "cells": [
  {
   "cell_type": "markdown",
   "metadata": {
    "id": "Rm1DKmXZM-Ja"
   },
   "source": [
    "# Problem 1\n",
    "\n",
    "Fizikte, bir nesnenin sabit ivmeyle hareket ederken son hızını \n",
    "(veya hızını) bulmak için aşağıdaki denklem kullanılabilir:\n",
    "```\n",
    "vf = vi + at\n",
    "burada:\n",
    "vf= son hız\n",
    "vi= ilk hız\n",
    "a= hızlanma\n",
    "t= zaman\n",
    "```\n",
    "İlk hız, ivme ve zaman verildiğinde, son hızı döndürecek bir fonksiyon yazın."
   ]
  },
  {
   "cell_type": "code",
   "execution_count": 1,
   "metadata": {
    "id": "vWrjJiV0M-Jk"
   },
   "outputs": [
    {
     "name": "stdout",
     "output_type": "stream",
     "text": [
      "20\n"
     ]
    }
   ],
   "source": [
    "def son_hiz(ilk_hız=1,ivme=1,zaman=1):\n",
    "    vf=ilk_hız+ivme*zaman\n",
    "    return vf\n",
    "print(son_hiz(10,5,2))"
   ]
  },
  {
   "cell_type": "markdown",
   "metadata": {
    "id": "uAHpyY5HM-Jq"
   },
   "source": [
    "# Problem 2\n",
    "\n",
    "1'den 1000'e kadar olan sayılardan mükemmel sayı olanları ekrana yazdırın. Bunun için bir sayının mükemmel olup olmadığını dönen bir tane fonksiyon yazın.\n",
    "\n",
    "Bir sayının bölenlerinin toplamı kendine eşitse bu sayı mükemmel bir sayıdır. Örnek olarak 6 mükemmel bir sayıdır (1 + 2 + 3 = 6)."
   ]
  },
  {
   "cell_type": "code",
   "execution_count": 9,
   "metadata": {
    "id": "yrY4Y5ncM-Jr"
   },
   "outputs": [
    {
     "name": "stdout",
     "output_type": "stream",
     "text": [
      "6\n",
      "28\n",
      "496\n"
     ]
    }
   ],
   "source": [
    "def mükemmel_sayi(x):\n",
    "    toplam=0\n",
    "    for i in range(1,x):\n",
    "        if x%i==0:\n",
    "            toplam=toplam+i   \n",
    "    if toplam==x:\n",
    "        print(x)\n",
    "\n",
    "for i in range(1,1001):\n",
    "    mükemmel_sayi(i)\n",
    "\n",
    "\n"
   ]
  },
  {
   "cell_type": "markdown",
   "metadata": {
    "id": "C2-XwlJtM-Jr"
   },
   "source": [
    "# Problem 3\n",
    "\n",
    "1'den 100'e kadar olan sayılardan pisagor üçgeni oluşturanları ekrana yazdıran bir fonksiyon yazın.(a <= 100,b <= 100)\n"
   ]
  },
  {
   "cell_type": "code",
   "execution_count": 20,
   "metadata": {
    "id": "BMNy4xi-M-Js"
   },
   "outputs": [
    {
     "name": "stdout",
     "output_type": "stream",
     "text": [
      "a=3, b=4, c=5\n",
      "a=5, b=12, c=13\n",
      "a=6, b=8, c=10\n",
      "a=7, b=24, c=25\n",
      "a=8, b=15, c=17\n",
      "a=9, b=12, c=15\n",
      "a=9, b=40, c=41\n",
      "a=10, b=24, c=26\n",
      "a=11, b=60, c=61\n",
      "a=12, b=16, c=20\n",
      "a=12, b=35, c=37\n",
      "a=13, b=84, c=85\n",
      "a=14, b=48, c=50\n",
      "a=15, b=20, c=25\n",
      "a=15, b=36, c=39\n",
      "a=16, b=30, c=34\n",
      "a=16, b=63, c=65\n",
      "a=18, b=24, c=30\n",
      "a=18, b=80, c=82\n",
      "a=20, b=21, c=29\n",
      "a=20, b=48, c=52\n",
      "a=21, b=28, c=35\n",
      "a=21, b=72, c=75\n",
      "a=24, b=32, c=40\n",
      "a=24, b=45, c=51\n",
      "a=24, b=70, c=74\n",
      "a=25, b=60, c=65\n",
      "a=27, b=36, c=45\n",
      "a=28, b=45, c=53\n",
      "a=28, b=96, c=100\n",
      "a=30, b=40, c=50\n",
      "a=30, b=72, c=78\n",
      "a=32, b=60, c=68\n",
      "a=33, b=44, c=55\n",
      "a=33, b=56, c=65\n",
      "a=35, b=84, c=91\n",
      "a=36, b=48, c=60\n",
      "a=36, b=77, c=85\n",
      "a=39, b=52, c=65\n",
      "a=39, b=80, c=89\n",
      "a=40, b=42, c=58\n",
      "a=40, b=75, c=85\n",
      "a=42, b=56, c=70\n",
      "a=45, b=60, c=75\n",
      "a=48, b=55, c=73\n",
      "a=48, b=64, c=80\n",
      "a=51, b=68, c=85\n",
      "a=54, b=72, c=90\n",
      "a=57, b=76, c=95\n",
      "a=60, b=63, c=87\n",
      "a=60, b=80, c=100\n",
      "a=65, b=72, c=97\n"
     ]
    }
   ],
   "source": [
    "def pisagor_ucgenleri():\n",
    "    for a in range(1, 101):\n",
    "        for b in range(a, 101): \n",
    "            c_kare = a**2 + b**2\n",
    "            c = int(c_kare ** 0.5)\n",
    "            if c <= 100 and c*c == c_kare:\n",
    "                print(f\"a={a}, b={b}, c={c}\")\n",
    "\n",
    "pisagor_ucgenleri()\n"
   ]
  },
  {
   "cell_type": "markdown",
   "metadata": {
    "id": "oPfmWi4jM-Js"
   },
   "source": [
    "# Problem 4\n",
    "\n",
    "Bir duvar boyamaya karar verdiniz. Boya kutusunun üzerindeki talimatta, 1 kutu boyanın 5 metrekarelik bir duvarı boyayabileceği yazıyor. Rastgele bir duvar yüksekliği ve genişliği verildiğinde, kaç kutu boya satın almanız gerektiğini hesaplayın.\n",
    "\n",
    "kutu sayısı = (duvar yüksekliği * duvar genişliği) ÷ kutu başına kaplama.\n",
    "\n",
    "örneğin Yükseklik = 2, Genişlik = 4, Kaplama = 5\n",
    "\n",
    "kutu sayısı = (2 * 4) ÷ 5 = 1.6\n",
    "\n",
    "Ancak bir kutu boyanın 0,6'sını satın alamayacağınız için, sonuç 2 kutuya yuvarlanmalıdır .\n"
   ]
  },
  {
   "cell_type": "code",
   "execution_count": 18,
   "metadata": {
    "id": "0zuyzSp5M-Jt"
   },
   "outputs": [
    {
     "data": {
      "text/plain": [
       "2"
      ]
     },
     "execution_count": 18,
     "metadata": {},
     "output_type": "execute_result"
    }
   ],
   "source": [
    "import math\n",
    "def kutu_sayisi(yükseklik,genislik):\n",
    "    kutu=(yükseklik*genislik)/5\n",
    "    return math.ceil(kutu)\n",
    "\n",
    "kutu_sayisi(2,4)\n",
    "    \n",
    "    "
   ]
  },
  {
   "cell_type": "markdown",
   "metadata": {
    "id": "pe6TJuBBM-Ju"
   },
   "source": [
    "# Problem 5\n",
    "\n",
    "Bir kelimedeki ünlü ve ünsüz harfleri sayan bir fonksiyon yazınız."
   ]
  },
  {
   "cell_type": "code",
   "execution_count": 17,
   "metadata": {
    "id": "LJ0opjiLM-Ju"
   },
   "outputs": [
    {
     "name": "stdout",
     "output_type": "stream",
     "text": [
      "Ünlü harf sayısı: 2 \n",
      "Ünsüz harf sayısı: 2\n"
     ]
    }
   ],
   "source": [
    "ünlü_harf=[\"a\",\"e\",\"u\",\"ü\",\"ı\",\"i\",\"o\",\"ö\",\"A\",\"E\",\"U\",\"Ü\",\"I\",\"İ\",\"O\",\"Ö\"]\n",
    "def harf_dagilimi(x):\n",
    "    ünlü_harf_sayisi=0\n",
    "    ünsüz_harf_sayisi=0\n",
    "    for i in x:\n",
    "        if i in ünlü_harf:\n",
    "            ünlü_harf_sayisi=ünlü_harf_sayisi+1\n",
    "        else:\n",
    "            ünsüz_harf_sayisi=ünsüz_harf_sayisi+1\n",
    "    print(f\"Ünlü harf sayısı: {ünlü_harf_sayisi} \")\n",
    "    print(f\"Ünsüz harf sayısı: {ünsüz_harf_sayisi}\")\n",
    "\n",
    "harf_dagilimi(\"Arda\")        \n",
    "\n"
   ]
  },
  {
   "cell_type": "markdown",
   "metadata": {
    "id": "Lfls2YTXM-Jv"
   },
   "source": [
    "# Problem 6\n",
    "\n",
    "Verilen bir listeden çift sayıları yazdıran bir fonksiyon yazınız.\n"
   ]
  },
  {
   "cell_type": "code",
   "execution_count": 14,
   "metadata": {
    "id": "qUwsL20IM-Jv"
   },
   "outputs": [
    {
     "name": "stdout",
     "output_type": "stream",
     "text": [
      "2\n",
      "4\n",
      "6\n",
      "8\n"
     ]
    }
   ],
   "source": [
    "a=[1,2,3,4,5,6,7,8]\n",
    "def cift_sayi(x):\n",
    "    for i in x:\n",
    "        if i%2==0:\n",
    "            print(i)\n",
    "\n",
    "cift_sayi(a)\n"
   ]
  },
  {
   "cell_type": "markdown",
   "metadata": {
    "id": "IPp724iIM-Jy"
   },
   "source": [
    "# Problem 7\n",
    "\n",
    "0'dan 10'a kadar olan sayıların toplamını hesaplayan özyinelemeli (Recursive Function) bir fonksiyon oluşturan bir fonksiyon yazınız.\n",
    "\n",
    "Özyinelemeli (Recursive Function) bir işlev, kendini tekrar tekrar çağıran bir işlevdir."
   ]
  },
  {
   "cell_type": "code",
   "execution_count": 19,
   "metadata": {
    "id": "KFW6xhTJM-Jz"
   },
   "outputs": [
    {
     "name": "stdout",
     "output_type": "stream",
     "text": [
      "55\n"
     ]
    }
   ],
   "source": [
    "def toplam(n):\n",
    "    if n == 0:\n",
    "        return 0\n",
    "    else:\n",
    "        return n + toplam(n - 1)\n",
    "print(toplam(10))  \n"
   ]
  }
 ],
 "metadata": {
  "colab": {
   "provenance": []
  },
  "kernelspec": {
   "display_name": "Python 3",
   "language": "python",
   "name": "python3"
  },
  "language_info": {
   "codemirror_mode": {
    "name": "ipython",
    "version": 3
   },
   "file_extension": ".py",
   "mimetype": "text/x-python",
   "name": "python",
   "nbconvert_exporter": "python",
   "pygments_lexer": "ipython3",
   "version": "3.13.2"
  },
  "orig_nbformat": 4
 },
 "nbformat": 4,
 "nbformat_minor": 0
}
